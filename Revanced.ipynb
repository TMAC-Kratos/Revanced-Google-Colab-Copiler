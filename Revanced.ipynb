{
  "nbformat": 4,
  "nbformat_minor": 0,
  "metadata": {
    "colab": {
      "name": "Revanced.ipynb",
      "provenance": [],
      "collapsed_sections": [],
      "include_colab_link": true
    },
    "kernelspec": {
      "name": "python3",
      "display_name": "Python 3"
    },
    "language_info": {
      "name": "python"
    }
  },
  "cells": [
    {
      "cell_type": "markdown",
      "metadata": {
        "id": "view-in-github",
        "colab_type": "text"
      },
      "source": [
        "<a href=\"https://colab.research.google.com/github/TMAC-Kratos/Revanced-Google-Colab-Copiler/blob/main/Revanced.ipynb\" target=\"_parent\"><img src=\"https://colab.research.google.com/assets/colab-badge.svg\" alt=\"Open In Colab\"/></a>"
      ]
    },
    {
      "cell_type": "markdown",
      "source": [
        "\n",
        "Hello! Welcome to TMAC_Kratos' Revanced compiler.\n",
        "\n",
        "Due to legal issues I do not provide the youtube.apk just like the Revanced team.\n",
        "\n",
        "You must provide your own youtube.apk (Can be in format youtube.apk or youtube_\"version\".apk) and upload it to your google drive.\n",
        "\n",
        "Once uploaded to you google drive you must locate the file id.\n",
        "\n",
        "The File id can be found by..\n",
        "1. Opening your Google drive in a web browser (https://drive.google.com)\n",
        "2. Right Click your youtube.apk and select get link\n",
        "3. Change general access  to 'Anyone with link can view'\n",
        "4. Copy the id from the link and paste it in the next cell (https://drive.google.com/file/d/[file_id]/view?usp=sharing)\n",
        "\n",
        "I do attempt to keep this up to date at my Github: https://github.com/TMAC-Kratos/Revanced-Google-Colab-Copiler"
      ],
      "metadata": {
        "id": "HX_rrCy36vNo"
      }
    },
    {
      "cell_type": "markdown",
      "source": [
        "Run the below script after adding the youtube.apk Google Drive ID."
      ],
      "metadata": {
        "id": "boaHEVCFxGFc"
      }
    },
    {
      "cell_type": "code",
      "source": [
        "\n",
        "print(\"Setting Google drive ID...\")\n",
        "\n",
        "# Enter youtube.apk ID from your google drive between the \" \" (Quotation marks)\n",
        "id=\"\"\n",
        "\n",
        "print(\"Done\")"
      ],
      "metadata": {
        "id": "OIdc2XAswKZ_",
        "colab": {
          "base_uri": "https://localhost:8080/"
        },
        "outputId": "206060e8-475b-4145-b03c-43ea974b6483"
      },
      "execution_count": null,
      "outputs": [
        {
          "output_type": "stream",
          "name": "stdout",
          "text": [
            "Setting Google drive ID...\n",
            "Done\n"
          ]
        }
      ]
    },
    {
      "cell_type": "markdown",
      "source": [
        "Run the below script after adding the latest Revanced File URLs. These can be located at https://github.com/revanced."
      ],
      "metadata": {
        "id": "w6Cra5VYxAAd"
      }
    },
    {
      "cell_type": "code",
      "source": [
        "\n",
        "print(\"Setting Revanced URLs...\")\n",
        "\n",
        "# Enter each of the latest version of Revanced file URL in their spot accordingly between the \" \" (Quotation marks). (Latest version at the time of writing is entered below)\n",
        "integrations=\"https://github.com/revanced/revanced-integrations/releases/download/v0.20.0/app-release-unsigned.apk\"\n",
        "patches=\"https://github.com/revanced/revanced-patches/releases/download/v2.7.0/revanced-patches-2.7.0.jar\"\n",
        "cli=\"https://github.com/revanced/revanced-cli/releases/download/v2.3.0/revanced-cli-2.3.0-all.jar\"\n",
        "\n",
        "print(\"Done\")"
      ],
      "metadata": {
        "id": "nZh0rQHhwv0q"
      },
      "execution_count": null,
      "outputs": []
    },
    {
      "cell_type": "markdown",
      "source": [
        "Run the below script after reviewing the link."
      ],
      "metadata": {
        "id": "F88FvLmpMTlH"
      }
    },
    {
      "cell_type": "code",
      "source": [
        "print(\"Setting microg URL...\")\n",
        "\n",
        "# This just provides you with the microg.apk, if you do not trust me providing this for you, you can change the link to a trustworthy source\n",
        "microg=\"https://github.com/TeamVanced/VancedMicroG/releases/download/v0.2.24.220220-220220001/microg.apk\"\n",
        "\n",
        "print(\"Done\")"
      ],
      "metadata": {
        "id": "gh5jc6NZLb_D"
      },
      "execution_count": null,
      "outputs": []
    },
    {
      "cell_type": "markdown",
      "source": [
        "Run the below script only after adding the youtube.apk Google Drive ID, filling in the URLs for the latest version of Revanced Files, reviewing the Microg url and running the above scripts!! (Please make sure to follow the running script by scrolling down it will tell you how to get your .apk files once completed)"
      ],
      "metadata": {
        "id": "JtTAHFEW_d_Q"
      }
    },
    {
      "cell_type": "code",
      "source": [
        "# Distro setup\n",
        "print(\"Setting up Distro...\")\n",
        "!apt update\n",
        "!apt upgrade\n",
        "!sleep 2\n",
        "print(\"Done\")\n",
        "\n",
        "# Drive downloader\n",
        "print(\"Setting up Drive Downloader...\")\n",
        "!pip install gdown \n",
        "!sleep 2\n",
        "print(\"Done\")\n",
        "\n",
        "# Removing directories if you ran this before\n",
        "print(\"Cleaning up old Folders if any...\")\n",
        "%cd ..\n",
        "%rm -rf Revanced\n",
        "%cd content\n",
        "print(\"Done\")\n",
        "\n",
        "# Creating Directories\n",
        "print(\"Creating Directories....\")\n",
        "!mkdir Revanced\n",
        "%cd Revanced\n",
        "!sleep 2\n",
        "print(\"Done\")\n",
        "\n",
        "# Zulu JDK-17 download and install\n",
        "print(\"Setting up JDK-17...\")\n",
        "!wget https://cdn.azul.com/zulu/bin/zulu17.34.19-ca-jdk17.0.3-linux_amd64.deb\n",
        "!sleep 2\n",
        "!sudo apt install ./zulu17.34.19-ca-jdk17.0.3-linux_amd64.deb\n",
        "!java --version\n",
        "!sleep 2\n",
        "print(\"Done\")\n",
        "\n",
        "\n",
        "# Downloading Revanced Files\n",
        "print(\"Downloading Revanced Integrations...\")\n",
        "!wget $integrations\n",
        "!sleep 2\n",
        "print(\"Done\")\n",
        "\n",
        "print(\"Downloading Revanced Patches...\")\n",
        "!wget $patches\n",
        "!sleep 2\n",
        "print(\"Done\")\n",
        "\n",
        "print(\"Downloading Revanced CLI...\")\n",
        "!wget $cli\n",
        "!sleep 2\n",
        "print(\"Done\")\n",
        "\n",
        "#       Micro-G  \n",
        "# -You can change this link if you want-\n",
        "print(\"Downloading Vanced Microg...\")\n",
        "!wget $microg\n",
        "!sleep 2\n",
        "print(\"Done\")\n",
        "\n",
        "# Make sure to have entered the youtube.apk id from your google drive above\n",
        "print(\"Downloading youtube.apk from Google Drive...\")\n",
        "print(id)\n",
        "!sleep 2\n",
        "!gdown $id\n",
        "!sleep 2\n",
        "print(\"Done\")\n",
        "\n",
        "# Renaming files for compatibility with building process\n",
        "print(\"Renaming Files..\")\n",
        "!mv app-release-unsigned.apk revanced-integrations.apk\n",
        "!mv revanced-cli-*.jar revanced-cli.jar\n",
        "!mv revanced-patches-*.jar revanced-patches.jar\n",
        "!mv youtube_*.apk youtube.apk\n",
        "!mv microG_*.apk microg.apk\n",
        "!sleep 2\n",
        "print(\"Done\")\n",
        "\n",
        "\n",
        "# Building revanced.apk\n",
        "print (\"Building revanced.apk\")\n",
        "!java -jar revanced-cli.jar -a youtube.apk -c -o revanced.apk -b revanced-patches.jar -m revanced-integrations.apk\n",
        "\n",
        "# Add any of the below parameters with out the # to the above command to disable some integrations (make sure to put a space between the end of the command and any other parameters)\n",
        "#-e seekbar-tapping\n",
        "#-e general-ads\n",
        "#-e video-ads\n",
        "#-e custom-branding\n",
        "#-e premium-heading\n",
        "#-e minimized-playback\n",
        "#-e disable-fullscreen-panels\n",
        "#-e old-quality-layout\n",
        "#-e disable-create-button\n",
        "#-e amoled\n",
        "#-e disable-shorts-button\n",
        "#-e hide-cast-button\n",
        "#-e hide-watermark\n",
        "#-e microg-support\n",
        "#-e custom-playback-speed\n",
        "#-e background-play\n",
        "#-e exclusive-audio-playback\n",
        "#-e codecs-unlock\n",
        "#-e upgrade-button-remover\n",
        "#-e tastebuilder-remover\n",
        "#-e hide-autoplay-button\n",
        "#-e hide-reels (currently included in the general-ads patch, cannot disable this patch only atm)\n",
        "\n",
        "# Add the below parameter to the above command to get a list of all available integrations in cases of this list not being updated in a timely fashion and to get a description of what each parameter does\n",
        "#-l\n",
        "\n",
        "!cd ..\n",
        "!pwd\n",
        "\n",
        "print(\"Sucessful, check if revanced.apk is in the folder 'Revanced' on the left side under the folder icon\")\n",
        "print(\"If revanced.apk is in the folder 'Revanced' then right click it and select download same with microg.apk if you need microg.\")"
      ],
      "metadata": {
        "id": "uL5y1-3ES7wT"
      },
      "execution_count": null,
      "outputs": []
    }
  ]
}
